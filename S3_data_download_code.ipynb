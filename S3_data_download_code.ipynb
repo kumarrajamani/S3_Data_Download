{
 "cells": [
  {
   "cell_type": "code",
   "execution_count": null,
   "id": "09378601-0154-4678-a258-717717a4a70c",
   "metadata": {},
   "outputs": [],
   "source": [
    "#Code to download S3 bucketfiles"
   ]
  },
  {
   "cell_type": "code",
   "execution_count": null,
   "id": "303a78e4-b15f-43bd-b475-f4a03f81964b",
   "metadata": {},
   "outputs": [],
   "source": [
    "import os\n",
    "import boto3\n",
    "\n",
    "def downloadDirectoryFroms3(client, bucketName, remoteDirectoryName):\n",
    "    s3_resource = boto3.resource('s3')\n",
    "    bucket = s3_resource.Bucket(bucketName)\n",
    "    for obj in bucket.objects.filter(Prefix=remoteDirectoryName):\n",
    "        local_key = obj.key.replace(remoteDirectoryName, 'S3_MNCFC_rabi/_Rabi')\n",
    "        if not os.path.exists(os.path.dirname(local_key)):\n",
    "            os.makedirs(os.path.dirname(local_key))\n",
    "        try:\n",
    "            bucket.download_file(obj.key, local_key)\n",
    "        except Exception as e:\n",
    "            print(f\"Error downloading {obj.key}: {e}\")\n",
    "            continue\n",
    "\n",
    "# Usage\n",
    "s3_client = boto3.client('s3')\n",
    "bucket_name = 'mncfc-data'\n",
    "prefix = 'Rabi_Non_Cereal_2022_23/SmartFarm data/ndvi_filtered/'\n",
    "\n",
    "\n",
    "downloadDirectoryFroms3(s3_client, bucket_name, prefix)\n"
   ]
  }
 ],
 "metadata": {
  "kernelspec": {
   "display_name": "Python 3 (ipykernel)",
   "language": "python",
   "name": "python3"
  },
  "language_info": {
   "codemirror_mode": {
    "name": "ipython",
    "version": 3
   },
   "file_extension": ".py",
   "mimetype": "text/x-python",
   "name": "python",
   "nbconvert_exporter": "python",
   "pygments_lexer": "ipython3",
   "version": "3.11.0"
  }
 },
 "nbformat": 4,
 "nbformat_minor": 5
}
